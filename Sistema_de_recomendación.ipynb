{
  "cells": [
    {
      "cell_type": "code",
      "execution_count": 2,
      "id": "42c1ae81",
      "metadata": {
        "_cell_guid": "78fea705-f9ad-4a81-aafd-8b7b624110d1",
        "_uuid": "1c291fe3725c706e0003f01f0102abb9709f25fc",
        "execution": {
          "iopub.execute_input": "2022-05-15T02:12:18.520802Z",
          "iopub.status.busy": "2022-05-15T02:12:18.520319Z",
          "iopub.status.idle": "2022-05-15T02:12:20.215159Z",
          "shell.execute_reply": "2022-05-15T02:12:20.214213Z"
        },
        "papermill": {
          "duration": 1.798236,
          "end_time": "2022-05-15T02:12:20.217838",
          "exception": false,
          "start_time": "2022-05-15T02:12:18.419602",
          "status": "completed"
        },
        "tags": [],
        "id": "42c1ae81"
      },
      "outputs": [],
      "source": [
        "import pandas as pd\n",
        "import numpy as np\n",
        "import matplotlib.pyplot as plt\n",
        "import seaborn as sns\n",
        "from scipy import stats\n",
        "from ast import literal_eval\n",
        "from sklearn.feature_extraction.text import TfidfVectorizer, CountVectorizer\n",
        "from sklearn.metrics.pairwise import linear_kernel, cosine_similarity\n",
        "import warnings; warnings.simplefilter('ignore')"
      ]
    },
    {
      "cell_type": "code",
      "execution_count": 3,
      "id": "6f1758e0",
      "metadata": {
        "id": "6f1758e0"
      },
      "outputs": [],
      "source": [
        "from nltk.stem.snowball import SnowballStemmer\n",
        "from nltk.stem.wordnet import WordNetLemmatizer\n",
        "from nltk.corpus import wordnet\n",
        "from surprise import Reader, Dataset, SVD\n",
        "from surprise.model_selection import cross_validate"
      ]
    },
    {
      "cell_type": "code",
      "source": [
        "from google.colab import drive"
      ],
      "metadata": {
        "id": "_d13rXXHG9hR"
      },
      "id": "_d13rXXHG9hR",
      "execution_count": 6,
      "outputs": []
    },
    {
      "cell_type": "code",
      "source": [
        "drive.mount('/content/drive')"
      ],
      "metadata": {
        "colab": {
          "base_uri": "https://localhost:8080/"
        },
        "id": "qqyes8ejG-Xr",
        "outputId": "11294818-283e-4736-b361-e7ecbb7570f1"
      },
      "id": "qqyes8ejG-Xr",
      "execution_count": 9,
      "outputs": [
        {
          "output_type": "stream",
          "name": "stdout",
          "text": [
            "Drive already mounted at /content/drive; to attempt to forcibly remount, call drive.mount(\"/content/drive\", force_remount=True).\n"
          ]
        }
      ]
    },
    {
      "cell_type": "code",
      "source": [
        "md = pd. read_csv('/content/drive/MyDrive/ratings1.csv')\n",
        "md.head()"
      ],
      "metadata": {
        "colab": {
          "base_uri": "https://localhost:8080/",
          "height": 206
        },
        "id": "R-PDnHluHsm-",
        "outputId": "3301d631-ac2f-4a6c-d43f-82a10f3d5cd3"
      },
      "id": "R-PDnHluHsm-",
      "execution_count": 27,
      "outputs": [
        {
          "output_type": "execute_result",
          "data": {
            "text/plain": [
              "   userId  rating   timestamp movieId                fecha        date  \\\n",
              "0       1     1.0  1425941529   as680  2015-03-09 22:52:09  1970-01-17   \n",
              "1       1     4.5  1425942435  ns2186  2015-03-09 23:07:15  1970-01-17   \n",
              "2       1     5.0  1425941523  hs2381  2015-03-09 22:52:03  1970-01-17   \n",
              "3       1     5.0  1425941546  ns3663  2015-03-09 22:52:26  1970-01-17   \n",
              "4       1     5.0  1425941556  as9500  2015-03-09 22:52:36  1970-01-17   \n",
              "\n",
              "  platform  \n",
              "0   amazon  \n",
              "1  netflix  \n",
              "2     hulu  \n",
              "3  netflix  \n",
              "4   amazon  "
            ],
            "text/html": [
              "\n",
              "  <div id=\"df-502245b1-21a0-4709-b2f8-d4ab93b99891\">\n",
              "    <div class=\"colab-df-container\">\n",
              "      <div>\n",
              "<style scoped>\n",
              "    .dataframe tbody tr th:only-of-type {\n",
              "        vertical-align: middle;\n",
              "    }\n",
              "\n",
              "    .dataframe tbody tr th {\n",
              "        vertical-align: top;\n",
              "    }\n",
              "\n",
              "    .dataframe thead th {\n",
              "        text-align: right;\n",
              "    }\n",
              "</style>\n",
              "<table border=\"1\" class=\"dataframe\">\n",
              "  <thead>\n",
              "    <tr style=\"text-align: right;\">\n",
              "      <th></th>\n",
              "      <th>userId</th>\n",
              "      <th>rating</th>\n",
              "      <th>timestamp</th>\n",
              "      <th>movieId</th>\n",
              "      <th>fecha</th>\n",
              "      <th>date</th>\n",
              "      <th>platform</th>\n",
              "    </tr>\n",
              "  </thead>\n",
              "  <tbody>\n",
              "    <tr>\n",
              "      <th>0</th>\n",
              "      <td>1</td>\n",
              "      <td>1.0</td>\n",
              "      <td>1425941529</td>\n",
              "      <td>as680</td>\n",
              "      <td>2015-03-09 22:52:09</td>\n",
              "      <td>1970-01-17</td>\n",
              "      <td>amazon</td>\n",
              "    </tr>\n",
              "    <tr>\n",
              "      <th>1</th>\n",
              "      <td>1</td>\n",
              "      <td>4.5</td>\n",
              "      <td>1425942435</td>\n",
              "      <td>ns2186</td>\n",
              "      <td>2015-03-09 23:07:15</td>\n",
              "      <td>1970-01-17</td>\n",
              "      <td>netflix</td>\n",
              "    </tr>\n",
              "    <tr>\n",
              "      <th>2</th>\n",
              "      <td>1</td>\n",
              "      <td>5.0</td>\n",
              "      <td>1425941523</td>\n",
              "      <td>hs2381</td>\n",
              "      <td>2015-03-09 22:52:03</td>\n",
              "      <td>1970-01-17</td>\n",
              "      <td>hulu</td>\n",
              "    </tr>\n",
              "    <tr>\n",
              "      <th>3</th>\n",
              "      <td>1</td>\n",
              "      <td>5.0</td>\n",
              "      <td>1425941546</td>\n",
              "      <td>ns3663</td>\n",
              "      <td>2015-03-09 22:52:26</td>\n",
              "      <td>1970-01-17</td>\n",
              "      <td>netflix</td>\n",
              "    </tr>\n",
              "    <tr>\n",
              "      <th>4</th>\n",
              "      <td>1</td>\n",
              "      <td>5.0</td>\n",
              "      <td>1425941556</td>\n",
              "      <td>as9500</td>\n",
              "      <td>2015-03-09 22:52:36</td>\n",
              "      <td>1970-01-17</td>\n",
              "      <td>amazon</td>\n",
              "    </tr>\n",
              "  </tbody>\n",
              "</table>\n",
              "</div>\n",
              "      <button class=\"colab-df-convert\" onclick=\"convertToInteractive('df-502245b1-21a0-4709-b2f8-d4ab93b99891')\"\n",
              "              title=\"Convert this dataframe to an interactive table.\"\n",
              "              style=\"display:none;\">\n",
              "        \n",
              "  <svg xmlns=\"http://www.w3.org/2000/svg\" height=\"24px\"viewBox=\"0 0 24 24\"\n",
              "       width=\"24px\">\n",
              "    <path d=\"M0 0h24v24H0V0z\" fill=\"none\"/>\n",
              "    <path d=\"M18.56 5.44l.94 2.06.94-2.06 2.06-.94-2.06-.94-.94-2.06-.94 2.06-2.06.94zm-11 1L8.5 8.5l.94-2.06 2.06-.94-2.06-.94L8.5 2.5l-.94 2.06-2.06.94zm10 10l.94 2.06.94-2.06 2.06-.94-2.06-.94-.94-2.06-.94 2.06-2.06.94z\"/><path d=\"M17.41 7.96l-1.37-1.37c-.4-.4-.92-.59-1.43-.59-.52 0-1.04.2-1.43.59L10.3 9.45l-7.72 7.72c-.78.78-.78 2.05 0 2.83L4 21.41c.39.39.9.59 1.41.59.51 0 1.02-.2 1.41-.59l7.78-7.78 2.81-2.81c.8-.78.8-2.07 0-2.86zM5.41 20L4 18.59l7.72-7.72 1.47 1.35L5.41 20z\"/>\n",
              "  </svg>\n",
              "      </button>\n",
              "      \n",
              "  <style>\n",
              "    .colab-df-container {\n",
              "      display:flex;\n",
              "      flex-wrap:wrap;\n",
              "      gap: 12px;\n",
              "    }\n",
              "\n",
              "    .colab-df-convert {\n",
              "      background-color: #E8F0FE;\n",
              "      border: none;\n",
              "      border-radius: 50%;\n",
              "      cursor: pointer;\n",
              "      display: none;\n",
              "      fill: #1967D2;\n",
              "      height: 32px;\n",
              "      padding: 0 0 0 0;\n",
              "      width: 32px;\n",
              "    }\n",
              "\n",
              "    .colab-df-convert:hover {\n",
              "      background-color: #E2EBFA;\n",
              "      box-shadow: 0px 1px 2px rgba(60, 64, 67, 0.3), 0px 1px 3px 1px rgba(60, 64, 67, 0.15);\n",
              "      fill: #174EA6;\n",
              "    }\n",
              "\n",
              "    [theme=dark] .colab-df-convert {\n",
              "      background-color: #3B4455;\n",
              "      fill: #D2E3FC;\n",
              "    }\n",
              "\n",
              "    [theme=dark] .colab-df-convert:hover {\n",
              "      background-color: #434B5C;\n",
              "      box-shadow: 0px 1px 3px 1px rgba(0, 0, 0, 0.15);\n",
              "      filter: drop-shadow(0px 1px 2px rgba(0, 0, 0, 0.3));\n",
              "      fill: #FFFFFF;\n",
              "    }\n",
              "  </style>\n",
              "\n",
              "      <script>\n",
              "        const buttonEl =\n",
              "          document.querySelector('#df-502245b1-21a0-4709-b2f8-d4ab93b99891 button.colab-df-convert');\n",
              "        buttonEl.style.display =\n",
              "          google.colab.kernel.accessAllowed ? 'block' : 'none';\n",
              "\n",
              "        async function convertToInteractive(key) {\n",
              "          const element = document.querySelector('#df-502245b1-21a0-4709-b2f8-d4ab93b99891');\n",
              "          const dataTable =\n",
              "            await google.colab.kernel.invokeFunction('convertToInteractive',\n",
              "                                                     [key], {});\n",
              "          if (!dataTable) return;\n",
              "\n",
              "          const docLinkHtml = 'Like what you see? Visit the ' +\n",
              "            '<a target=\"_blank\" href=https://colab.research.google.com/notebooks/data_table.ipynb>data table notebook</a>'\n",
              "            + ' to learn more about interactive tables.';\n",
              "          element.innerHTML = '';\n",
              "          dataTable['output_type'] = 'display_data';\n",
              "          await google.colab.output.renderOutput(dataTable, element);\n",
              "          const docLink = document.createElement('div');\n",
              "          docLink.innerHTML = docLinkHtml;\n",
              "          element.appendChild(docLink);\n",
              "        }\n",
              "      </script>\n",
              "    </div>\n",
              "  </div>\n",
              "  "
            ]
          },
          "metadata": {},
          "execution_count": 27
        }
      ]
    },
    {
      "cell_type": "code",
      "source": [
        "ratings = md[['userId', 'movieId', 'rating']]\n",
        "ratings.head()"
      ],
      "metadata": {
        "colab": {
          "base_uri": "https://localhost:8080/",
          "height": 206
        },
        "id": "ldYZIj9IdU-I",
        "outputId": "050712c1-214a-4f3e-caf7-df7c2ed17bab"
      },
      "id": "ldYZIj9IdU-I",
      "execution_count": 30,
      "outputs": [
        {
          "output_type": "execute_result",
          "data": {
            "text/plain": [
              "   userId movieId  rating\n",
              "0       1   as680     1.0\n",
              "1       1  ns2186     4.5\n",
              "2       1  hs2381     5.0\n",
              "3       1  ns3663     5.0\n",
              "4       1  as9500     5.0"
            ],
            "text/html": [
              "\n",
              "  <div id=\"df-1534eb34-0353-47e1-abd0-0b7284bf6d6e\">\n",
              "    <div class=\"colab-df-container\">\n",
              "      <div>\n",
              "<style scoped>\n",
              "    .dataframe tbody tr th:only-of-type {\n",
              "        vertical-align: middle;\n",
              "    }\n",
              "\n",
              "    .dataframe tbody tr th {\n",
              "        vertical-align: top;\n",
              "    }\n",
              "\n",
              "    .dataframe thead th {\n",
              "        text-align: right;\n",
              "    }\n",
              "</style>\n",
              "<table border=\"1\" class=\"dataframe\">\n",
              "  <thead>\n",
              "    <tr style=\"text-align: right;\">\n",
              "      <th></th>\n",
              "      <th>userId</th>\n",
              "      <th>movieId</th>\n",
              "      <th>rating</th>\n",
              "    </tr>\n",
              "  </thead>\n",
              "  <tbody>\n",
              "    <tr>\n",
              "      <th>0</th>\n",
              "      <td>1</td>\n",
              "      <td>as680</td>\n",
              "      <td>1.0</td>\n",
              "    </tr>\n",
              "    <tr>\n",
              "      <th>1</th>\n",
              "      <td>1</td>\n",
              "      <td>ns2186</td>\n",
              "      <td>4.5</td>\n",
              "    </tr>\n",
              "    <tr>\n",
              "      <th>2</th>\n",
              "      <td>1</td>\n",
              "      <td>hs2381</td>\n",
              "      <td>5.0</td>\n",
              "    </tr>\n",
              "    <tr>\n",
              "      <th>3</th>\n",
              "      <td>1</td>\n",
              "      <td>ns3663</td>\n",
              "      <td>5.0</td>\n",
              "    </tr>\n",
              "    <tr>\n",
              "      <th>4</th>\n",
              "      <td>1</td>\n",
              "      <td>as9500</td>\n",
              "      <td>5.0</td>\n",
              "    </tr>\n",
              "  </tbody>\n",
              "</table>\n",
              "</div>\n",
              "      <button class=\"colab-df-convert\" onclick=\"convertToInteractive('df-1534eb34-0353-47e1-abd0-0b7284bf6d6e')\"\n",
              "              title=\"Convert this dataframe to an interactive table.\"\n",
              "              style=\"display:none;\">\n",
              "        \n",
              "  <svg xmlns=\"http://www.w3.org/2000/svg\" height=\"24px\"viewBox=\"0 0 24 24\"\n",
              "       width=\"24px\">\n",
              "    <path d=\"M0 0h24v24H0V0z\" fill=\"none\"/>\n",
              "    <path d=\"M18.56 5.44l.94 2.06.94-2.06 2.06-.94-2.06-.94-.94-2.06-.94 2.06-2.06.94zm-11 1L8.5 8.5l.94-2.06 2.06-.94-2.06-.94L8.5 2.5l-.94 2.06-2.06.94zm10 10l.94 2.06.94-2.06 2.06-.94-2.06-.94-.94-2.06-.94 2.06-2.06.94z\"/><path d=\"M17.41 7.96l-1.37-1.37c-.4-.4-.92-.59-1.43-.59-.52 0-1.04.2-1.43.59L10.3 9.45l-7.72 7.72c-.78.78-.78 2.05 0 2.83L4 21.41c.39.39.9.59 1.41.59.51 0 1.02-.2 1.41-.59l7.78-7.78 2.81-2.81c.8-.78.8-2.07 0-2.86zM5.41 20L4 18.59l7.72-7.72 1.47 1.35L5.41 20z\"/>\n",
              "  </svg>\n",
              "      </button>\n",
              "      \n",
              "  <style>\n",
              "    .colab-df-container {\n",
              "      display:flex;\n",
              "      flex-wrap:wrap;\n",
              "      gap: 12px;\n",
              "    }\n",
              "\n",
              "    .colab-df-convert {\n",
              "      background-color: #E8F0FE;\n",
              "      border: none;\n",
              "      border-radius: 50%;\n",
              "      cursor: pointer;\n",
              "      display: none;\n",
              "      fill: #1967D2;\n",
              "      height: 32px;\n",
              "      padding: 0 0 0 0;\n",
              "      width: 32px;\n",
              "    }\n",
              "\n",
              "    .colab-df-convert:hover {\n",
              "      background-color: #E2EBFA;\n",
              "      box-shadow: 0px 1px 2px rgba(60, 64, 67, 0.3), 0px 1px 3px 1px rgba(60, 64, 67, 0.15);\n",
              "      fill: #174EA6;\n",
              "    }\n",
              "\n",
              "    [theme=dark] .colab-df-convert {\n",
              "      background-color: #3B4455;\n",
              "      fill: #D2E3FC;\n",
              "    }\n",
              "\n",
              "    [theme=dark] .colab-df-convert:hover {\n",
              "      background-color: #434B5C;\n",
              "      box-shadow: 0px 1px 3px 1px rgba(0, 0, 0, 0.15);\n",
              "      filter: drop-shadow(0px 1px 2px rgba(0, 0, 0, 0.3));\n",
              "      fill: #FFFFFF;\n",
              "    }\n",
              "  </style>\n",
              "\n",
              "      <script>\n",
              "        const buttonEl =\n",
              "          document.querySelector('#df-1534eb34-0353-47e1-abd0-0b7284bf6d6e button.colab-df-convert');\n",
              "        buttonEl.style.display =\n",
              "          google.colab.kernel.accessAllowed ? 'block' : 'none';\n",
              "\n",
              "        async function convertToInteractive(key) {\n",
              "          const element = document.querySelector('#df-1534eb34-0353-47e1-abd0-0b7284bf6d6e');\n",
              "          const dataTable =\n",
              "            await google.colab.kernel.invokeFunction('convertToInteractive',\n",
              "                                                     [key], {});\n",
              "          if (!dataTable) return;\n",
              "\n",
              "          const docLinkHtml = 'Like what you see? Visit the ' +\n",
              "            '<a target=\"_blank\" href=https://colab.research.google.com/notebooks/data_table.ipynb>data table notebook</a>'\n",
              "            + ' to learn more about interactive tables.';\n",
              "          element.innerHTML = '';\n",
              "          dataTable['output_type'] = 'display_data';\n",
              "          await google.colab.output.renderOutput(dataTable, element);\n",
              "          const docLink = document.createElement('div');\n",
              "          docLink.innerHTML = docLinkHtml;\n",
              "          element.appendChild(docLink);\n",
              "        }\n",
              "      </script>\n",
              "    </div>\n",
              "  </div>\n",
              "  "
            ]
          },
          "metadata": {},
          "execution_count": 30
        }
      ]
    },
    {
      "cell_type": "markdown",
      "id": "b0b80383",
      "metadata": {
        "_cell_guid": "a9a16fac-217d-4b36-b280-ca250ee921fe",
        "_uuid": "ddc06567eb0fe770c7f3b77f3cb7b777a6923f5c",
        "papermill": {
          "duration": 0.109276,
          "end_time": "2022-05-15T02:13:33.985412",
          "exception": false,
          "start_time": "2022-05-15T02:13:33.876136",
          "status": "completed"
        },
        "tags": [],
        "id": "b0b80383"
      },
      "source": [
        "## Filtración colaborativa\n",
        "\n",
        "Utilizaremos una técnica llamada **Filtrado colaborativo** para hacer recomendaciones a los espectadores de películas. El filtrado colaborativo se basa en la idea de que los usuarios similares a mí pueden usarse para predecir cuánto me gustará un producto o servicio en particular que esos usuarios han usado/experimentado pero yo no.\n",
        "\n",
        "No implementaré el filtrado colaborativo desde cero. En su lugar, usaré la biblioteca **Surprise** que usó algoritmos extremadamente poderosos como **Descomposición de valores singulares (SVD)** para minimizar el RMSE (Error cuadrático medio) y brindar excelentes recomendaciones."
      ]
    },
    {
      "cell_type": "code",
      "execution_count": 20,
      "id": "d0b5cddf",
      "metadata": {
        "_cell_guid": "632e75c9-0068-456a-82d5-8a8eb44e98df",
        "_uuid": "de715e5b70a605e3bd65ad50bbfa9b71aac1aef4",
        "execution": {
          "iopub.execute_input": "2022-05-15T02:13:34.204895Z",
          "iopub.status.busy": "2022-05-15T02:13:34.204575Z",
          "iopub.status.idle": "2022-05-15T02:13:34.208800Z",
          "shell.execute_reply": "2022-05-15T02:13:34.208111Z"
        },
        "papermill": {
          "duration": 0.115789,
          "end_time": "2022-05-15T02:13:34.210702",
          "exception": false,
          "start_time": "2022-05-15T02:13:34.094913",
          "status": "completed"
        },
        "tags": [],
        "id": "d0b5cddf"
      },
      "outputs": [],
      "source": [
        "reader = Reader()"
      ]
    },
    {
      "cell_type": "code",
      "execution_count": 31,
      "id": "1d189a52",
      "metadata": {
        "_cell_guid": "f2f755fd-c3ef-4095-add8-f88350cf1b36",
        "_uuid": "daa1711d353573b2dcf5145f1882397a2adcab27",
        "execution": {
          "iopub.execute_input": "2022-05-15T02:13:34.731466Z",
          "iopub.status.busy": "2022-05-15T02:13:34.730788Z",
          "iopub.status.idle": "2022-05-15T02:13:34.877703Z",
          "shell.execute_reply": "2022-05-15T02:13:34.876712Z"
        },
        "papermill": {
          "duration": 0.260009,
          "end_time": "2022-05-15T02:13:34.879937",
          "exception": false,
          "start_time": "2022-05-15T02:13:34.619928",
          "status": "completed"
        },
        "tags": [],
        "colab": {
          "base_uri": "https://localhost:8080/"
        },
        "id": "1d189a52",
        "outputId": "71eaf077-93fc-4409-8d54-6c043a7bda0e"
      },
      "outputs": [
        {
          "output_type": "execute_result",
          "data": {
            "text/plain": [
              "<generator object KFold.split at 0x7f8e0b6d87b0>"
            ]
          },
          "metadata": {},
          "execution_count": 31
        }
      ],
      "source": [
        "data = Dataset.load_from_df(ratings[['userId', 'movieId', 'rating']], reader)\n",
        "from surprise.model_selection import KFold\n",
        "kf = KFold(n_splits=5)\n",
        "kf.split(data)\n",
        "#data.split(n_folds=5)"
      ]
    },
    {
      "cell_type": "code",
      "execution_count": 32,
      "id": "46caf6a1",
      "metadata": {
        "_cell_guid": "41ca3304-0fa5-401d-8c20-48b5c7cfb0d4",
        "_uuid": "edc105b14d9331d3adb44155c881670c5afacc41",
        "execution": {
          "iopub.execute_input": "2022-05-15T02:13:35.101029Z",
          "iopub.status.busy": "2022-05-15T02:13:35.100691Z",
          "iopub.status.idle": "2022-05-15T02:14:16.544330Z",
          "shell.execute_reply": "2022-05-15T02:14:16.543242Z"
        },
        "papermill": {
          "duration": 41.675707,
          "end_time": "2022-05-15T02:14:16.665887",
          "exception": false,
          "start_time": "2022-05-15T02:13:34.990180",
          "status": "completed"
        },
        "tags": [],
        "colab": {
          "base_uri": "https://localhost:8080/"
        },
        "id": "46caf6a1",
        "outputId": "5889363f-7f39-43ae-80ab-8a5d77a4dada"
      },
      "outputs": [
        {
          "output_type": "stream",
          "name": "stdout",
          "text": [
            "Evaluating RMSE, MAE of algorithm SVD on 5 split(s).\n",
            "\n",
            "                  Fold 1  Fold 2  Fold 3  Fold 4  Fold 5  Mean    Std     \n",
            "RMSE (testset)    0.9738  0.9751  0.9714  0.9753  0.9727  0.9737  0.0015  \n",
            "MAE (testset)     0.7576  0.7581  0.7572  0.7584  0.7566  0.7576  0.0007  \n",
            "Fit time          3.90    4.24    4.65    3.94    5.12    4.37    0.46    \n",
            "Test time         0.68    0.92    0.60    0.62    0.93    0.75    0.14    \n"
          ]
        },
        {
          "output_type": "execute_result",
          "data": {
            "text/plain": [
              "{'test_rmse': array([0.97384012, 0.97514359, 0.97140224, 0.97525772, 0.97271562]),\n",
              " 'test_mae': array([0.75764612, 0.75810631, 0.75721812, 0.75841124, 0.75655719]),\n",
              " 'fit_time': (3.899815082550049,\n",
              "  4.23884654045105,\n",
              "  4.646897554397583,\n",
              "  3.940037250518799,\n",
              "  5.119748115539551),\n",
              " 'test_time': (0.6832740306854248,\n",
              "  0.917586088180542,\n",
              "  0.6036725044250488,\n",
              "  0.6207945346832275,\n",
              "  0.9262785911560059)}"
            ]
          },
          "metadata": {},
          "execution_count": 32
        }
      ],
      "source": [
        "svd = SVD()\n",
        "cross_validate(svd, data, measures=['RMSE', 'MAE'],cv=5,verbose=True)"
      ]
    },
    {
      "cell_type": "markdown",
      "id": "d1092770",
      "metadata": {
        "_cell_guid": "0ac7021a-9174-48bd-a1ca-5ab227409963",
        "_uuid": "6f3d3cd411dc437a28ddbd184e77d9229bf224a2",
        "papermill": {
          "duration": 0.11141,
          "end_time": "2022-05-15T02:14:16.889656",
          "exception": false,
          "start_time": "2022-05-15T02:14:16.778246",
          "status": "completed"
        },
        "tags": [],
        "id": "d1092770"
      },
      "source": [
        "Obtenemos una media de **Root Mean Square Error** de  0.9714, que es más que suficiente para nuestro caso. Entrenemos ahora en nuestro conjunto de datos y lleguemos a las predicciones."
      ]
    },
    {
      "cell_type": "code",
      "execution_count": 33,
      "id": "16cd6024",
      "metadata": {
        "_cell_guid": "b39199fa-a02c-4509-852d-85020b36424d",
        "_uuid": "b588afd2750b0ba0793b953edac8c366222f8500",
        "execution": {
          "iopub.execute_input": "2022-05-15T02:14:17.116465Z",
          "iopub.status.busy": "2022-05-15T02:14:17.116143Z",
          "iopub.status.idle": "2022-05-15T02:14:26.824118Z",
          "shell.execute_reply": "2022-05-15T02:14:26.823067Z"
        },
        "papermill": {
          "duration": 9.824085,
          "end_time": "2022-05-15T02:14:26.826310",
          "exception": false,
          "start_time": "2022-05-15T02:14:17.002225",
          "status": "completed"
        },
        "tags": [],
        "colab": {
          "base_uri": "https://localhost:8080/"
        },
        "id": "16cd6024",
        "outputId": "447f62b2-0ef4-4da7-877e-5249855bbe6c"
      },
      "outputs": [
        {
          "output_type": "execute_result",
          "data": {
            "text/plain": [
              "<surprise.prediction_algorithms.matrix_factorization.SVD at 0x7f8e136b5f40>"
            ]
          },
          "metadata": {},
          "execution_count": 33
        }
      ],
      "source": [
        "#from surprise import KNNBasic\n",
        "#data = Dataset.load_builtin('ml-100k')\n",
        "trainset = data.build_full_trainset()\n",
        "svd.fit(trainset)"
      ]
    },
    {
      "cell_type": "markdown",
      "id": "0c92868f",
      "metadata": {
        "_cell_guid": "9d6653dc-7ad4-4c78-9c50-bbfe988b4397",
        "_uuid": "f9fc5344c7545c16539aa0966f62b59be1761f34",
        "papermill": {
          "duration": 0.113308,
          "end_time": "2022-05-15T02:14:27.052820",
          "exception": false,
          "start_time": "2022-05-15T02:14:26.939512",
          "status": "completed"
        },
        "tags": [],
        "id": "0c92868f"
      },
      "source": [
        "Elijamos al usuario 5000 y verifiquemos las calificaciones que ha dado."
      ]
    },
    {
      "cell_type": "code",
      "execution_count": 34,
      "id": "d1a36644",
      "metadata": {
        "_cell_guid": "b57dd617-c9aa-4928-a7de-c6b7036cc07b",
        "_uuid": "2307233c3213417079c46fcfaaf2638ef1f0059f",
        "execution": {
          "iopub.execute_input": "2022-05-15T02:14:27.290495Z",
          "iopub.status.busy": "2022-05-15T02:14:27.290060Z",
          "iopub.status.idle": "2022-05-15T02:14:27.303813Z",
          "shell.execute_reply": "2022-05-15T02:14:27.303075Z"
        },
        "papermill": {
          "duration": 0.134162,
          "end_time": "2022-05-15T02:14:27.305794",
          "exception": false,
          "start_time": "2022-05-15T02:14:27.171632",
          "status": "completed"
        },
        "tags": [],
        "colab": {
          "base_uri": "https://localhost:8080/",
          "height": 896
        },
        "id": "d1a36644",
        "outputId": "cb0a970c-f7ee-4cbe-c846-22d3c3111e8b"
      },
      "outputs": [
        {
          "output_type": "execute_result",
          "data": {
            "text/plain": [
              "    userId movieId  rating\n",
              "0        1   as680     1.0\n",
              "1        1  ns2186     4.5\n",
              "2        1  hs2381     5.0\n",
              "3        1  ns3663     5.0\n",
              "4        1  as9500     5.0\n",
              "5        1  as3004     4.0\n",
              "6        1  ns8282     4.5\n",
              "7        1  as6112     5.0\n",
              "8        1   hs327     4.0\n",
              "9        1  ns1358     4.0\n",
              "10       1  ns7360     5.0\n",
              "11       1  ns3980     5.0\n",
              "12       1   ns128     4.0\n",
              "13       1  ns3830     3.5\n",
              "14       1  as5517     4.0\n",
              "15       1  as1577     5.0\n",
              "16       1  hs2056     5.0\n",
              "17       1  ns5413     5.0\n",
              "18       1  as6909     5.0\n",
              "19       1  as4340     5.0\n",
              "20       1  as8902     2.5\n",
              "21       1   hs871     5.0\n",
              "22       1  ns5624     5.0\n",
              "23       1  ns8584     5.0\n",
              "24       1  as7193     0.5\n",
              "25       1   ds853     4.0\n",
              "26       1  ns1310     5.0"
            ],
            "text/html": [
              "\n",
              "  <div id=\"df-81d91ba6-bc6e-4c59-bf2c-65fcab6515b8\">\n",
              "    <div class=\"colab-df-container\">\n",
              "      <div>\n",
              "<style scoped>\n",
              "    .dataframe tbody tr th:only-of-type {\n",
              "        vertical-align: middle;\n",
              "    }\n",
              "\n",
              "    .dataframe tbody tr th {\n",
              "        vertical-align: top;\n",
              "    }\n",
              "\n",
              "    .dataframe thead th {\n",
              "        text-align: right;\n",
              "    }\n",
              "</style>\n",
              "<table border=\"1\" class=\"dataframe\">\n",
              "  <thead>\n",
              "    <tr style=\"text-align: right;\">\n",
              "      <th></th>\n",
              "      <th>userId</th>\n",
              "      <th>movieId</th>\n",
              "      <th>rating</th>\n",
              "    </tr>\n",
              "  </thead>\n",
              "  <tbody>\n",
              "    <tr>\n",
              "      <th>0</th>\n",
              "      <td>1</td>\n",
              "      <td>as680</td>\n",
              "      <td>1.0</td>\n",
              "    </tr>\n",
              "    <tr>\n",
              "      <th>1</th>\n",
              "      <td>1</td>\n",
              "      <td>ns2186</td>\n",
              "      <td>4.5</td>\n",
              "    </tr>\n",
              "    <tr>\n",
              "      <th>2</th>\n",
              "      <td>1</td>\n",
              "      <td>hs2381</td>\n",
              "      <td>5.0</td>\n",
              "    </tr>\n",
              "    <tr>\n",
              "      <th>3</th>\n",
              "      <td>1</td>\n",
              "      <td>ns3663</td>\n",
              "      <td>5.0</td>\n",
              "    </tr>\n",
              "    <tr>\n",
              "      <th>4</th>\n",
              "      <td>1</td>\n",
              "      <td>as9500</td>\n",
              "      <td>5.0</td>\n",
              "    </tr>\n",
              "    <tr>\n",
              "      <th>5</th>\n",
              "      <td>1</td>\n",
              "      <td>as3004</td>\n",
              "      <td>4.0</td>\n",
              "    </tr>\n",
              "    <tr>\n",
              "      <th>6</th>\n",
              "      <td>1</td>\n",
              "      <td>ns8282</td>\n",
              "      <td>4.5</td>\n",
              "    </tr>\n",
              "    <tr>\n",
              "      <th>7</th>\n",
              "      <td>1</td>\n",
              "      <td>as6112</td>\n",
              "      <td>5.0</td>\n",
              "    </tr>\n",
              "    <tr>\n",
              "      <th>8</th>\n",
              "      <td>1</td>\n",
              "      <td>hs327</td>\n",
              "      <td>4.0</td>\n",
              "    </tr>\n",
              "    <tr>\n",
              "      <th>9</th>\n",
              "      <td>1</td>\n",
              "      <td>ns1358</td>\n",
              "      <td>4.0</td>\n",
              "    </tr>\n",
              "    <tr>\n",
              "      <th>10</th>\n",
              "      <td>1</td>\n",
              "      <td>ns7360</td>\n",
              "      <td>5.0</td>\n",
              "    </tr>\n",
              "    <tr>\n",
              "      <th>11</th>\n",
              "      <td>1</td>\n",
              "      <td>ns3980</td>\n",
              "      <td>5.0</td>\n",
              "    </tr>\n",
              "    <tr>\n",
              "      <th>12</th>\n",
              "      <td>1</td>\n",
              "      <td>ns128</td>\n",
              "      <td>4.0</td>\n",
              "    </tr>\n",
              "    <tr>\n",
              "      <th>13</th>\n",
              "      <td>1</td>\n",
              "      <td>ns3830</td>\n",
              "      <td>3.5</td>\n",
              "    </tr>\n",
              "    <tr>\n",
              "      <th>14</th>\n",
              "      <td>1</td>\n",
              "      <td>as5517</td>\n",
              "      <td>4.0</td>\n",
              "    </tr>\n",
              "    <tr>\n",
              "      <th>15</th>\n",
              "      <td>1</td>\n",
              "      <td>as1577</td>\n",
              "      <td>5.0</td>\n",
              "    </tr>\n",
              "    <tr>\n",
              "      <th>16</th>\n",
              "      <td>1</td>\n",
              "      <td>hs2056</td>\n",
              "      <td>5.0</td>\n",
              "    </tr>\n",
              "    <tr>\n",
              "      <th>17</th>\n",
              "      <td>1</td>\n",
              "      <td>ns5413</td>\n",
              "      <td>5.0</td>\n",
              "    </tr>\n",
              "    <tr>\n",
              "      <th>18</th>\n",
              "      <td>1</td>\n",
              "      <td>as6909</td>\n",
              "      <td>5.0</td>\n",
              "    </tr>\n",
              "    <tr>\n",
              "      <th>19</th>\n",
              "      <td>1</td>\n",
              "      <td>as4340</td>\n",
              "      <td>5.0</td>\n",
              "    </tr>\n",
              "    <tr>\n",
              "      <th>20</th>\n",
              "      <td>1</td>\n",
              "      <td>as8902</td>\n",
              "      <td>2.5</td>\n",
              "    </tr>\n",
              "    <tr>\n",
              "      <th>21</th>\n",
              "      <td>1</td>\n",
              "      <td>hs871</td>\n",
              "      <td>5.0</td>\n",
              "    </tr>\n",
              "    <tr>\n",
              "      <th>22</th>\n",
              "      <td>1</td>\n",
              "      <td>ns5624</td>\n",
              "      <td>5.0</td>\n",
              "    </tr>\n",
              "    <tr>\n",
              "      <th>23</th>\n",
              "      <td>1</td>\n",
              "      <td>ns8584</td>\n",
              "      <td>5.0</td>\n",
              "    </tr>\n",
              "    <tr>\n",
              "      <th>24</th>\n",
              "      <td>1</td>\n",
              "      <td>as7193</td>\n",
              "      <td>0.5</td>\n",
              "    </tr>\n",
              "    <tr>\n",
              "      <th>25</th>\n",
              "      <td>1</td>\n",
              "      <td>ds853</td>\n",
              "      <td>4.0</td>\n",
              "    </tr>\n",
              "    <tr>\n",
              "      <th>26</th>\n",
              "      <td>1</td>\n",
              "      <td>ns1310</td>\n",
              "      <td>5.0</td>\n",
              "    </tr>\n",
              "  </tbody>\n",
              "</table>\n",
              "</div>\n",
              "      <button class=\"colab-df-convert\" onclick=\"convertToInteractive('df-81d91ba6-bc6e-4c59-bf2c-65fcab6515b8')\"\n",
              "              title=\"Convert this dataframe to an interactive table.\"\n",
              "              style=\"display:none;\">\n",
              "        \n",
              "  <svg xmlns=\"http://www.w3.org/2000/svg\" height=\"24px\"viewBox=\"0 0 24 24\"\n",
              "       width=\"24px\">\n",
              "    <path d=\"M0 0h24v24H0V0z\" fill=\"none\"/>\n",
              "    <path d=\"M18.56 5.44l.94 2.06.94-2.06 2.06-.94-2.06-.94-.94-2.06-.94 2.06-2.06.94zm-11 1L8.5 8.5l.94-2.06 2.06-.94-2.06-.94L8.5 2.5l-.94 2.06-2.06.94zm10 10l.94 2.06.94-2.06 2.06-.94-2.06-.94-.94-2.06-.94 2.06-2.06.94z\"/><path d=\"M17.41 7.96l-1.37-1.37c-.4-.4-.92-.59-1.43-.59-.52 0-1.04.2-1.43.59L10.3 9.45l-7.72 7.72c-.78.78-.78 2.05 0 2.83L4 21.41c.39.39.9.59 1.41.59.51 0 1.02-.2 1.41-.59l7.78-7.78 2.81-2.81c.8-.78.8-2.07 0-2.86zM5.41 20L4 18.59l7.72-7.72 1.47 1.35L5.41 20z\"/>\n",
              "  </svg>\n",
              "      </button>\n",
              "      \n",
              "  <style>\n",
              "    .colab-df-container {\n",
              "      display:flex;\n",
              "      flex-wrap:wrap;\n",
              "      gap: 12px;\n",
              "    }\n",
              "\n",
              "    .colab-df-convert {\n",
              "      background-color: #E8F0FE;\n",
              "      border: none;\n",
              "      border-radius: 50%;\n",
              "      cursor: pointer;\n",
              "      display: none;\n",
              "      fill: #1967D2;\n",
              "      height: 32px;\n",
              "      padding: 0 0 0 0;\n",
              "      width: 32px;\n",
              "    }\n",
              "\n",
              "    .colab-df-convert:hover {\n",
              "      background-color: #E2EBFA;\n",
              "      box-shadow: 0px 1px 2px rgba(60, 64, 67, 0.3), 0px 1px 3px 1px rgba(60, 64, 67, 0.15);\n",
              "      fill: #174EA6;\n",
              "    }\n",
              "\n",
              "    [theme=dark] .colab-df-convert {\n",
              "      background-color: #3B4455;\n",
              "      fill: #D2E3FC;\n",
              "    }\n",
              "\n",
              "    [theme=dark] .colab-df-convert:hover {\n",
              "      background-color: #434B5C;\n",
              "      box-shadow: 0px 1px 3px 1px rgba(0, 0, 0, 0.15);\n",
              "      filter: drop-shadow(0px 1px 2px rgba(0, 0, 0, 0.3));\n",
              "      fill: #FFFFFF;\n",
              "    }\n",
              "  </style>\n",
              "\n",
              "      <script>\n",
              "        const buttonEl =\n",
              "          document.querySelector('#df-81d91ba6-bc6e-4c59-bf2c-65fcab6515b8 button.colab-df-convert');\n",
              "        buttonEl.style.display =\n",
              "          google.colab.kernel.accessAllowed ? 'block' : 'none';\n",
              "\n",
              "        async function convertToInteractive(key) {\n",
              "          const element = document.querySelector('#df-81d91ba6-bc6e-4c59-bf2c-65fcab6515b8');\n",
              "          const dataTable =\n",
              "            await google.colab.kernel.invokeFunction('convertToInteractive',\n",
              "                                                     [key], {});\n",
              "          if (!dataTable) return;\n",
              "\n",
              "          const docLinkHtml = 'Like what you see? Visit the ' +\n",
              "            '<a target=\"_blank\" href=https://colab.research.google.com/notebooks/data_table.ipynb>data table notebook</a>'\n",
              "            + ' to learn more about interactive tables.';\n",
              "          element.innerHTML = '';\n",
              "          dataTable['output_type'] = 'display_data';\n",
              "          await google.colab.output.renderOutput(dataTable, element);\n",
              "          const docLink = document.createElement('div');\n",
              "          docLink.innerHTML = docLinkHtml;\n",
              "          element.appendChild(docLink);\n",
              "        }\n",
              "      </script>\n",
              "    </div>\n",
              "  </div>\n",
              "  "
            ]
          },
          "metadata": {},
          "execution_count": 34
        }
      ],
      "source": [
        "ratings[ratings['userId'] == 1]"
      ]
    },
    {
      "cell_type": "code",
      "execution_count": 35,
      "id": "2b98bc3f",
      "metadata": {
        "_cell_guid": "e0701e4b-dde1-4791-b96e-faa4ae40df8e",
        "_uuid": "9c22aa0cc39595a4414d227a284f92b382eab67a",
        "execution": {
          "iopub.execute_input": "2022-05-15T02:14:27.536771Z",
          "iopub.status.busy": "2022-05-15T02:14:27.536337Z",
          "iopub.status.idle": "2022-05-15T02:14:27.542187Z",
          "shell.execute_reply": "2022-05-15T02:14:27.541339Z"
        },
        "papermill": {
          "duration": 0.121378,
          "end_time": "2022-05-15T02:14:27.544150",
          "exception": false,
          "start_time": "2022-05-15T02:14:27.422772",
          "status": "completed"
        },
        "tags": [],
        "colab": {
          "base_uri": "https://localhost:8080/"
        },
        "id": "2b98bc3f",
        "outputId": "62d2d153-6fbe-4935-a62a-5561a85a4ba8"
      },
      "outputs": [
        {
          "output_type": "execute_result",
          "data": {
            "text/plain": [
              "Prediction(uid=1, iid=302, r_ui=3, est=4.135273973639967, details={'was_impossible': False})"
            ]
          },
          "metadata": {},
          "execution_count": 35
        }
      ],
      "source": [
        "svd.predict(1, 302, 3)"
      ]
    },
    {
      "cell_type": "markdown",
      "id": "6fb82724",
      "metadata": {
        "_cell_guid": "42878787-6661-4d30-b58a-c5408e683157",
        "_uuid": "ba08a1dc335c8662f4bec66cec36fef04b2c63b5",
        "papermill": {
          "duration": 0.118071,
          "end_time": "2022-05-15T02:14:27.780736",
          "exception": false,
          "start_time": "2022-05-15T02:14:27.662665",
          "status": "completed"
        },
        "tags": [],
        "id": "6fb82724"
      },
      "source": [
        "Para la película con ID 302, obtenemos una predicción estimada de **4.1352**. Una característica sorprendente de este sistema de recomendación es que no le importa cuál es la película (o qué contiene). Funciona únicamente sobre la base de una ID de película asignada e intenta predecir las calificaciones en función de cómo los otros usuarios han predicho la película."
      ]
    }
  ],
  "metadata": {
    "kernelspec": {
      "display_name": "Python 3",
      "language": "python",
      "name": "python3"
    },
    "language_info": {
      "codemirror_mode": {
        "name": "ipython",
        "version": 3
      },
      "file_extension": ".py",
      "mimetype": "text/x-python",
      "name": "python",
      "nbconvert_exporter": "python",
      "pygments_lexer": "ipython3",
      "version": "3.11.0"
    },
    "papermill": {
      "default_parameters": {},
      "duration": 143.850212,
      "end_time": "2022-05-15T02:14:31.874786",
      "environment_variables": {},
      "exception": null,
      "input_path": "__notebook__.ipynb",
      "output_path": "__notebook__.ipynb",
      "parameters": {},
      "start_time": "2022-05-15T02:12:08.024574",
      "version": "2.3.4"
    },
    "colab": {
      "provenance": []
    }
  },
  "nbformat": 4,
  "nbformat_minor": 5
}