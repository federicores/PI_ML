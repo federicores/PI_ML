{
 "cells": [
  {
   "cell_type": "code",
   "execution_count": null,
   "metadata": {},
   "outputs": [],
   "source": [
    "import pandas as pd\n",
    "import numpy as np\n",
    "from datetime import date\n"
   ]
  },
  {
   "cell_type": "code",
   "execution_count": null,
   "metadata": {},
   "outputs": [],
   "source": [
    "ratings_1 = pd.read_csv(\"./archivos/ratings/1.csv\")\n",
    "ratings_2 = pd.read_csv(\"./archivos/ratings/2.csv\")\n",
    "ratings_3 = pd.read_csv(\"./archivos/ratings/3.csv\")\n",
    "ratings_4 = pd.read_csv(\"./archivos/ratings/4.csv\")\n",
    "ratings_5 = pd.read_csv(\"./archivos/ratings/5.csv\")\n",
    "ratings_6 = pd.read_csv(\"./archivos/ratings/6.csv\")\n",
    "ratings_7 = pd.read_csv(\"./archivos/ratings/7.csv\")\n",
    "ratings_8 = pd.read_csv(\"./archivos/ratings/8.csv\")"
   ]
  },
  {
   "cell_type": "code",
   "execution_count": null,
   "metadata": {},
   "outputs": [],
   "source": [
    "df = pd.concat([ratings_1, ratings_2, ratings_3, ratings_4,ratings_5,ratings_6,ratings_7,ratings_8], axis=0)\n",
    "df.shape"
   ]
  },
  {
   "cell_type": "code",
   "execution_count": 38,
   "metadata": {},
   "outputs": [],
   "source": [
    "df['platform']= df['movieId'].apply(lambda x: \"amazon\" if 'a' in x else (\"netflix\" if 'n' in x else (\"disney\" if 'd' in x else (\"hulu\" if 'h' in x else x)))) "
   ]
  },
  {
   "cell_type": "code",
   "execution_count": 43,
   "metadata": {},
   "outputs": [
    {
     "data": {
      "text/html": [
       "<div>\n",
       "<style scoped>\n",
       "    .dataframe tbody tr th:only-of-type {\n",
       "        vertical-align: middle;\n",
       "    }\n",
       "\n",
       "    .dataframe tbody tr th {\n",
       "        vertical-align: top;\n",
       "    }\n",
       "\n",
       "    .dataframe thead th {\n",
       "        text-align: right;\n",
       "    }\n",
       "</style>\n",
       "<table border=\"1\" class=\"dataframe\">\n",
       "  <thead>\n",
       "    <tr style=\"text-align: right;\">\n",
       "      <th></th>\n",
       "      <th>userId</th>\n",
       "      <th>rating</th>\n",
       "      <th>timestamp</th>\n",
       "      <th>movieId</th>\n",
       "      <th>fecha</th>\n",
       "      <th>date</th>\n",
       "      <th>platform</th>\n",
       "    </tr>\n",
       "  </thead>\n",
       "  <tbody>\n",
       "    <tr>\n",
       "      <th>0</th>\n",
       "      <td>1</td>\n",
       "      <td>1.0</td>\n",
       "      <td>1425941529</td>\n",
       "      <td>as680</td>\n",
       "      <td>2015-03-09 22:52:09</td>\n",
       "      <td>1970-01-17</td>\n",
       "      <td>amazon</td>\n",
       "    </tr>\n",
       "    <tr>\n",
       "      <th>1</th>\n",
       "      <td>1</td>\n",
       "      <td>4.5</td>\n",
       "      <td>1425942435</td>\n",
       "      <td>ns2186</td>\n",
       "      <td>2015-03-09 23:07:15</td>\n",
       "      <td>1970-01-17</td>\n",
       "      <td>netflix</td>\n",
       "    </tr>\n",
       "  </tbody>\n",
       "</table>\n",
       "</div>"
      ],
      "text/plain": [
       "   userId  rating   timestamp movieId               fecha        date platform\n",
       "0       1     1.0  1425941529   as680 2015-03-09 22:52:09  1970-01-17   amazon\n",
       "1       1     4.5  1425942435  ns2186 2015-03-09 23:07:15  1970-01-17  netflix"
      ]
     },
     "execution_count": 43,
     "metadata": {},
     "output_type": "execute_result"
    }
   ],
   "source": [
    "df[\"fecha\"] = pd.to_datetime(df['timestamp'], unit= 's') \n",
    "df.head(2)"
   ]
  },
  {
   "cell_type": "code",
   "execution_count": null,
   "metadata": {},
   "outputs": [],
   "source": [
    "df.to_csv('ratings.csv', encoding='utf-8', index=False)"
   ]
  }
 ],
 "metadata": {
  "kernelspec": {
   "display_name": "Python 3",
   "language": "python",
   "name": "python3"
  },
  "language_info": {
   "codemirror_mode": {
    "name": "ipython",
    "version": 3
   },
   "file_extension": ".py",
   "mimetype": "text/x-python",
   "name": "python",
   "nbconvert_exporter": "python",
   "pygments_lexer": "ipython3",
   "version": "3.11.0"
  },
  "orig_nbformat": 4
 },
 "nbformat": 4,
 "nbformat_minor": 2
}
